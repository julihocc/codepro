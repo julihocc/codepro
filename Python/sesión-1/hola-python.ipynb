{
 "cells": [
  {
   "cell_type": "markdown",
   "source": [
    "# ¡Hola, Python!\n",
    "\n",
    "En esta sección, aprenderemos a la sintaxis básica de Python, a través de ejemplos."
   ],
   "metadata": {
    "collapsed": false
   }
  },
  {
   "cell_type": "code",
   "execution_count": 8,
   "outputs": [
    {
     "name": "stdout",
     "output_type": "stream",
     "text": [
      "La edad promedio es:  35.333333333333336\n"
     ]
    }
   ],
   "source": [
    "import random\n",
    "\n",
    "# Ejemplo 1.\n",
    "# Calcular la media aritmética de una lista de edades\n",
    "\n",
    "Ana = 35\n",
    "Beto = 18\n",
    "Carlos = 53\n",
    "\n",
    "promedio = (Ana+Beto+Carlos)/3\n",
    "print(\"La edad promedio es: \",promedio)"
   ],
   "metadata": {
    "collapsed": false
   }
  },
  {
   "cell_type": "code",
   "execution_count": 5,
   "outputs": [
    {
     "name": "stdout",
     "output_type": "stream",
     "text": [
      "La edad promedio es:  35\n"
     ]
    }
   ],
   "source": [
    "promedio_redondeado = round(promedio)\n",
    "print(\"La edad promedio es: \",promedio_redondeado)"
   ],
   "metadata": {
    "collapsed": false
   }
  },
  {
   "cell_type": "code",
   "execution_count": 9,
   "outputs": [
    {
     "data": {
      "text/plain": "3"
     },
     "execution_count": 9,
     "metadata": {},
     "output_type": "execute_result"
    }
   ],
   "source": [
    "edades = [Ana, Beto, Carlos]\n",
    "len(edades)"
   ],
   "metadata": {
    "collapsed": false
   }
  },
  {
   "cell_type": "code",
   "execution_count": 10,
   "outputs": [
    {
     "data": {
      "text/plain": "106"
     },
     "execution_count": 10,
     "metadata": {},
     "output_type": "execute_result"
    }
   ],
   "source": [
    "sum(edades)"
   ],
   "metadata": {
    "collapsed": false
   }
  },
  {
   "cell_type": "code",
   "execution_count": 11,
   "outputs": [
    {
     "data": {
      "text/plain": "35.333333333333336"
     },
     "execution_count": 11,
     "metadata": {},
     "output_type": "execute_result"
    }
   ],
   "source": [
    "sum(edades)/len(edades)"
   ],
   "metadata": {
    "collapsed": false
   }
  },
  {
   "cell_type": "code",
   "execution_count": 12,
   "outputs": [
    {
     "data": {
      "text/plain": "35"
     },
     "execution_count": 12,
     "metadata": {},
     "output_type": "execute_result"
    }
   ],
   "source": [
    "round(sum(edades)/len(edades))"
   ],
   "metadata": {
    "collapsed": false
   }
  },
  {
   "cell_type": "code",
   "execution_count": 14,
   "outputs": [
    {
     "data": {
      "text/plain": "35.333333333333336"
     },
     "execution_count": 14,
     "metadata": {},
     "output_type": "execute_result"
    }
   ],
   "source": [
    "def promedio(lista):\n",
    "    return sum(lista)/len(edades)\n",
    "\n",
    "promedio(edades)"
   ],
   "metadata": {
    "collapsed": false
   }
  },
  {
   "cell_type": "code",
   "execution_count": 16,
   "outputs": [
    {
     "name": "stdout",
     "output_type": "stream",
     "text": [
      "35.333333333333336\n",
      "35\n"
     ]
    }
   ],
   "source": [
    "def promedio(lista, redondeado):\n",
    "    if redondeado:\n",
    "        return round(sum(lista)/len(edades))\n",
    "    else:\n",
    "        return sum(lista)/len(edades)\n",
    "\n",
    "print(promedio(edades, False))\n",
    "print(promedio(edades, True))"
   ],
   "metadata": {
    "collapsed": false
   }
  },
  {
   "cell_type": "code",
   "execution_count": 17,
   "outputs": [
    {
     "ename": "TypeError",
     "evalue": "promedio() missing 1 required positional argument: 'redondeado'",
     "output_type": "error",
     "traceback": [
      "\u001B[1;31m---------------------------------------------------------------------------\u001B[0m",
      "\u001B[1;31mTypeError\u001B[0m                                 Traceback (most recent call last)",
      "Cell \u001B[1;32mIn[17], line 1\u001B[0m\n\u001B[1;32m----> 1\u001B[0m \u001B[38;5;28mprint\u001B[39m(\u001B[43mpromedio\u001B[49m\u001B[43m(\u001B[49m\u001B[43medades\u001B[49m\u001B[43m)\u001B[49m)\n",
      "\u001B[1;31mTypeError\u001B[0m: promedio() missing 1 required positional argument: 'redondeado'"
     ]
    }
   ],
   "source": [
    "# print(promedio(edades))"
   ],
   "metadata": {
    "collapsed": false
   }
  },
  {
   "cell_type": "code",
   "execution_count": 18,
   "outputs": [
    {
     "name": "stdout",
     "output_type": "stream",
     "text": [
      "35.333333333333336\n"
     ]
    }
   ],
   "source": [
    "def promedio(lista, redondeado=False):\n",
    "    if redondeado:\n",
    "        return round(sum(lista)/len(edades))\n",
    "    else:\n",
    "        return sum(lista)/len(edades)\n",
    "\n",
    "print(promedio(edades))"
   ],
   "metadata": {
    "collapsed": false
   }
  },
  {
   "cell_type": "code",
   "execution_count": null,
   "outputs": [],
   "source": [],
   "metadata": {
    "collapsed": false
   }
  }
 ],
 "metadata": {
  "kernelspec": {
   "display_name": "Python 3",
   "language": "python",
   "name": "python3"
  },
  "language_info": {
   "codemirror_mode": {
    "name": "ipython",
    "version": 2
   },
   "file_extension": ".py",
   "mimetype": "text/x-python",
   "name": "python",
   "nbconvert_exporter": "python",
   "pygments_lexer": "ipython2",
   "version": "2.7.6"
  }
 },
 "nbformat": 4,
 "nbformat_minor": 0
}
